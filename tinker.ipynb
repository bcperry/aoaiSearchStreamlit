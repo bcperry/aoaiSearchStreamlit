{
 "cells": [
  {
   "cell_type": "code",
   "execution_count": 1,
   "id": "bee04408",
   "metadata": {},
   "outputs": [],
   "source": [
    "import os\n",
    "from openai import AzureOpenAI\n",
    "from azure.identity import DefaultAzureCredential, get_bearer_token_provider\n",
    "from dotenv import load_dotenv\n",
    "\n",
    "load_dotenv()\n",
    "\n",
    "\n",
    "\n",
    "\n",
    "token_provider = get_bearer_token_provider(\n",
    "    DefaultAzureCredential(),\n",
    "    \"https://cognitiveservices.azure.us/.default\"\n",
    ")\n",
    "client = AzureOpenAI(\n",
    "                azure_endpoint=os.environ[\"AZURE_OPENAI_ENDPOINT\"],\n",
    "                azure_deployment=os.environ[\"AZURE_OPENAI_MODEL\"],\n",
    "                api_key=os.environ[\"AZURE_OPENAI_API_KEY\"],\n",
    "                api_version=os.environ[\"OPENAI_API_VERSION\"])\n"
   ]
  },
  {
   "cell_type": "code",
   "execution_count": 6,
   "id": "5715bb2f",
   "metadata": {},
   "outputs": [],
   "source": [
    "response = client.chat.completions.create(\n",
    "        model=os.environ[\"AZURE_OPENAI_MODEL\"],\n",
    "        messages= [\n",
    "            {\n",
    "                \"role\": \"user\",\n",
    "                \"content\": \"What is the capital of France?\"\n",
    "            }\n",
    "        ],\n",
    "\n",
    "        # stream=True,\n",
    "        extra_body={\n",
    "            'data_sources': [{\n",
    "                'type': 'azure_search',\n",
    "                'parameters': {\n",
    "                    'endpoint': os.getenv('AZURE_SEARCH_ENDPOINT'),\n",
    "                    'index_name': 'vector-index',\n",
    "                    'semantic_configuration': 'default',\n",
    "                    'query_type': 'vector_semantic_hybrid',\n",
    "                    'authentication': {\n",
    "                        'type': 'system_assigned_managed_identity'\n",
    "                    },\n",
    "                    'embedding_dependency': {\n",
    "                        'type': 'deployment_name',\n",
    "                        'deployment_name': 'text-embedding-ada-002'\n",
    "                    }\n",
    "                }\n",
    "            }]\n",
    "        }\n",
    "    )"
   ]
  },
  {
   "cell_type": "code",
   "execution_count": 10,
   "id": "defff211",
   "metadata": {},
   "outputs": [
    {
     "name": "stdout",
     "output_type": "stream",
     "text": [
      "{\n",
      "    \"response\": \"The requested information is not available in the retrieved data. Please try another query or topic.\"\n",
      "}\n"
     ]
    }
   ],
   "source": [
    "import json\n",
    "\n",
    "# Extract the content of the assistant's message\n",
    "response_data = response.choices[0].message.content\n",
    "\n",
    "# Pretty print the response data\n",
    "print(json.dumps({\"response\": response_data}, indent=4))"
   ]
  },
  {
   "cell_type": "code",
   "execution_count": null,
   "id": "6ceafec3",
   "metadata": {},
   "outputs": [],
   "source": []
  }
 ],
 "metadata": {
  "kernelspec": {
   "display_name": ".venv",
   "language": "python",
   "name": "python3"
  },
  "language_info": {
   "codemirror_mode": {
    "name": "ipython",
    "version": 3
   },
   "file_extension": ".py",
   "mimetype": "text/x-python",
   "name": "python",
   "nbconvert_exporter": "python",
   "pygments_lexer": "ipython3",
   "version": "3.12.10"
  }
 },
 "nbformat": 4,
 "nbformat_minor": 5
}
